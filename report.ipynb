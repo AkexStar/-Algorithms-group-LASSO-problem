{
 "cells": [
  {
   "cell_type": "markdown",
   "metadata": {},
   "source": [
    "# <center>Group-LASSO-problem 作业</center>\n",
    "\n",
    "<center>李锦韬 2201213292</center>\n",
    "\n",
    "本文档为 Group-LASSO-problem 作业的实验报告，用于进一步拓展说明ReadME中的内容。"
   ]
  },
  {
   "cell_type": "markdown",
   "metadata": {},
   "source": [
    "## 问题描述\n",
    "\n",
    "考虑以下问题：\n",
    "\n",
    "$$\n",
    "\\min _{x \\in \\mathbb{R}^{n \\times l}} \\frac{1}{2}\\|A x-b\\|_F^2+\\mu\\|x\\|_{1,2}\n",
    "$$\n",
    "\n",
    "其中 $A \\in \\mathbb{R}^{m \\times n}$, $b \\in \\mathbb{R}^{m \\times l}$, $\\mu>0$ 并且\n",
    "\n",
    "$$\n",
    "\\|x\\|_{1,2}=\\sum_{i=1}^n\\|x(i, 1: l)\\|_2\n",
    "$$\n",
    "\n",
    "其中 $x(i, 1: l)$ 是矩阵 $x$ 的第 $i$ 行。"
   ]
  },
  {
   "cell_type": "markdown",
   "metadata": {},
   "source": [
    "## 评价指标\n",
    "本项目将使用以下指标来评价各个算法的性能：\n",
    "\n",
    "- 算法得到的最终目标函数值 和 最优解对应的目标函数 之间的绝对值差 `Obj_ABS_Error`\n",
    "- 算法得到的最终解 和 最优解 之间的 归一化 Frobenius 范数差 `x_u_Error`\n",
    "- （对于非 mosek 和 gurobi 等自行编写的算法）对比其和此两者成熟求解器所得解之间的归一化 Frobenius 范数差 `x_CVXmosek_Error` 和 `x_CVXgurobi_Error`\n",
    "- 算法求解的运行时间 `Time(s)`\n",
    "- 算法求解的迭代次数 `Iter`\n",
    "- 算法得到的最终解的稀疏度 `Sparsity`\n",
    "\n",
    "下面具体地介绍各个指标的计算方法：\n",
    "\n",
    "`Obj_ABS_Error` 的计算方法如下：\n",
    "$$\n",
    "Error_{f} = |f_{x} - f_{u}|\n",
    "$$\n",
    "\n",
    "其中 $f_{x}$ 为算法得到的最终目标函数值，$f_{u}$ 为最优解 $u$ 对应的目标函数值。\n",
    "\n",
    "`x_u_Error` 的计算方法如下：\n",
    "$$\n",
    "Error(x, u) = \\frac{\\|x - u\\|_F}{1 + \\|u\\|_F}\n",
    "$$\n",
    "\n",
    "其中 $x$ 为算法得到的最终解，$u$ 为最优解。\n",
    "\n",
    "`x_CVXmosek_Error` 和 `x_CVXgurobi_Error` 的计算方法如下：\n",
    "$$\n",
    "Error(x, x_{cvx}) = \\frac{\\|x - x_{cvx}\\|_F}{1 + \\|x_{cvx}\\|_F}\n",
    "$$\n",
    "\n",
    "其中 $x$ 为算法得到的最终解，$x_{cvx}$ 为使用 cvxpy + mosek 或 cvxpy + gurobi 求解得到的最优解。\n",
    "\n",
    "`Sparsity` 的计算方法如下：\n",
    "\n",
    "$$\n",
    "Sparsity = \\frac{\\|x\\|_0}{n \\times l}\n",
    "$$\n",
    "\n",
    "其中 $x$ 为算法得到的最终解，$\\|x\\|_0$ 表示 $x$ 中非零元素的个数，在本项目中认为绝对值小于 $10^{-5}$ 的元素为零。\n"
   ]
  },
  {
   "cell_type": "markdown",
   "metadata": {},
   "source": [
    "## CVX 求解\n",
    "\n",
    "使用 CVX 软件包可以直接求解上述问题，无需变换问题形式。直接将 `X` 设为变量，并根据问题描述写出目标函数即可。\n",
    "\n",
    "需要注意的是：本项目使用 CVX 的 python 版本，即 CVXPY，版本信息在README文件中。CVX 记录的迭代信息是通过 `verbose=True` 来实现的，由于其无法直接被读取和存储，本项目使用重定向 `stdout` 输出到文件的技巧记录迭代信息，之后采用正则表达式匹配的方式提取迭代信息。\n",
    "\n",
    "代码的最后一步中的求解器可以分别选择 mosek 和 gurobi。\n",
    "例如下面的形式："
   ]
  },
  {
   "cell_type": "code",
   "execution_count": null,
   "metadata": {},
   "outputs": [],
   "source": [
    "import numpy as np\n",
    "import cvxpy as cp\n",
    "def gl_cvx_mosek(x0: np.ndarray, A: np.ndarray, b: np.ndarray, mu: float, opts={}):\n",
    "    X = cp.Variable(shape=(A.shape[1], b.shape[1]))\n",
    "    X.value = x0\n",
    "    objective = cp.Minimize(0.5 * cp.square(cp.norm(A @ X - b, 'fro')) + mu * cp.sum(cp.norm(X, 2, 1)))\n",
    "    problem = cp.Problem(objective)\n",
    "    problem.solve(solver=cp.MOSEK, verbose=True)"
   ]
  },
  {
   "cell_type": "markdown",
   "metadata": {},
   "source": [
    "运行本项目编写的测试脚本，最终结果和迭代曲线如下所示。\n",
    "\n",
    "可以注意到：\n",
    "\n",
    "- CVX 可以自行转换相应的目标函数和约束条件，使其符合 mosek 和 gurobi 的要求；\n",
    "- mosek 和 gurobi 的求解效率相差不大，但是 mosek 求解速度更快，单位迭代步所需时间也更少。\n",
    "- mosek 和 gurobi 两者最终得到的解差别不大，从数值上几乎相同。\n",
    "- gurobi 第一次迭代的目标函数值为负数值，可能是由于求解器初始求解时的特殊策略所致。\n"
   ]
  },
  {
   "cell_type": "code",
   "execution_count": 1,
   "metadata": {},
   "outputs": [
    {
     "name": "stdout",
     "output_type": "stream",
     "text": [
      "Intel MKL WARNING: Support of Intel(R) Streaming SIMD Extensions 4.2 (Intel(R) SSE4.2) enabled only processors has been deprecated. Intel oneAPI Math Kernel Library 2025.0 will require Intel(R) Advanced Vector Extensions (Intel(R) AVX) instructions.\n",
      "Intel MKL WARNING: Support of Intel(R) Streaming SIMD Extensions 4.2 (Intel(R) SSE4.2) enabled only processors has been deprecated. Intel oneAPI Math Kernel Library 2025.0 will require Intel(R) Advanced Vector Extensions (Intel(R) AVX) instructions.\n",
      "Solver        Objective    Obj_ABS_Error    x_u_Error    Time(s)    Iter    Sparsity\n",
      "----------  -----------  ---------------  -----------  ---------  ------  ----------\n",
      "cvx_mosek      0.652291      1.36249e-05  3.91006e-05   0.483289      14    0.102539\n",
      "cvx_gurobi     0.652291      1.32116e-05  3.96407e-05   1.94496       11    0.102539\n"
     ]
    },
    {
     "data": {
      "image/png": "[encoded data removed]",
      "text/plain": [
       "<Figure size 640x480 with 1 Axes>"
      ]
     },
     "metadata": {},
     "output_type": "display_data"
    },
    {
     "data": {
      "text/plain": [
       "<Figure size 640x480 with 0 Axes>"
      ]
     },
     "metadata": {},
     "output_type": "display_data"
    }
   ],
   "source": [
    "%matplotlib inline\n",
    "%run Test_group_lasso.py -S gl_cvx_mosek gl_cvx_gurobi -P -L ERROR"
   ]
  },
  {
   "cell_type": "markdown",
   "metadata": {},
   "source": [
    "## Mosek 和 gurobi 求解\n",
    "\n",
    "Mosek 和 gurobi 同样拥有对应的 python 软件包，可以直接调用。但是由于其要求问题形式必须为标准形式，因此需要对原问题进行变换。\n",
    "\n",
    "### Mosek\n",
    "\n",
    "对于 Mosek，需要进行变量替换，令原问题中的前半部分2范数项为 $y$ 、 后半部分的组范数为 $z$ ，将难以处理的范数放入约束锥中，将原问题转换为如下形式：\n",
    "\n",
    "\n"
   ]
  },
  {
   "cell_type": "markdown",
   "metadata": {},
   "source": [
    "$$\n",
    "\n",
    "Minimize:\n",
    "\\begin{equation}\n",
    "    \\text{obj} = \\frac{1}{2} t_1 + \\mu \\sum_{i=1}^{n} ts_i\n",
    "\\end{equation}\n",
    "$$\n",
    "\n",
    "$$\n",
    "\n",
    "Subject to:\n",
    "\\begin{align}\n",
    "    & AX - b = Y \\\\\n",
    "    & \\begin{bmatrix}\n",
    "        1 + t_1 \\\\\n",
    "        2Y_{\\text{reshaped}} \\\\\n",
    "        1 - t_1\n",
    "    \\end{bmatrix} \\in \\text{Second-Order Cone} \\\\\n",
    "    & \\begin{bmatrix}\n",
    "        ts_i \\\\\n",
    "        X_{\\text{slice}(i)}^{\\text{reshaped}}\n",
    "    \\end{bmatrix} \\in \\text{Second-Order Cone}, \\quad \\forall i = 1, \\ldots, n\n",
    "\\end{align}\n",
    "\n",
    "$$\n"
   ]
  }
 ],
 "metadata": {
  "kernelspec": {
   "display_name": "lasso",
   "language": "python",
   "name": "python3"
  },
  "language_info": {
   "codemirror_mode": {
    "name": "ipython",
    "version": 3
   },
   "file_extension": ".py",
   "mimetype": "text/x-python",
   "name": "python",
   "nbconvert_exporter": "python",
   "pygments_lexer": "ipython3",
   "version": "3.9.18"
  }
 },
 "nbformat": 4,
 "nbformat_minor": 2
}
